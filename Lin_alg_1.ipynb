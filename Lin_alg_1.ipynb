{
 "cells": [
  {
   "cell_type": "code",
   "execution_count": 1,
   "metadata": {},
   "outputs": [],
   "source": [
    "%load_ext autoreload\n",
    "%autoreload 2\n",
    "\n",
    "%matplotlib inline"
   ]
  },
  {
   "cell_type": "code",
   "execution_count": 3,
   "metadata": {},
   "outputs": [
    {
     "ename": "SyntaxError",
     "evalue": "invalid syntax (<ipython-input-3-cb110326aeee>, line 1)",
     "output_type": "error",
     "traceback": [
      "\u001b[1;36m  File \u001b[1;32m\"<ipython-input-3-cb110326aeee>\"\u001b[1;36m, line \u001b[1;32m1\u001b[0m\n\u001b[1;33m    Create anaconda environment\u001b[0m\n\u001b[1;37m                  ^\u001b[0m\n\u001b[1;31mSyntaxError\u001b[0m\u001b[1;31m:\u001b[0m invalid syntax\n"
     ]
    }
   ],
   "source": [
    "Create anaconda environment\n",
    "\n",
    "conda create -n ml python=3.7.4 jupyter\n",
    "Install fastai library\n",
    "\n",
    "conda install -c pytorch -c fastai fastai"
   ]
  },
  {
   "cell_type": "markdown",
   "metadata": {},
   "source": [
    "# Set Theory Basics"
   ]
  },
  {
   "cell_type": "markdown",
   "metadata": {},
   "source": [
    "***Problem***   Prove that $A \\subseteq A$"
   ]
  },
  {
   "cell_type": "markdown",
   "metadata": {},
   "source": [
    "***Solution: For each element $x$ in set $A$,  $x \\in A$***"
   ]
  },
  {
   "cell_type": "markdown",
   "metadata": {},
   "source": [
    "***Problem*** If $A \\subseteq B$ and $B \\subseteq A$ $\\to$ $A = B$"
   ]
  },
  {
   "cell_type": "markdown",
   "metadata": {},
   "source": [
    "***Solution*** if $a \\in A$ , from $A \\subseteq B$ => $a \\in B$ , and for every $a \\in B$ , from $B \\subseteq A$ => $a \\in A$"
   ]
  },
  {
   "cell_type": "markdown",
   "metadata": {},
   "source": [
    "***Problem *** Empty set a $\\emptyset$ is a set without elements at all and which is contained in any set $\\emptyset \\subseteq A$ for any $A \\in Set$ so $\\emptyset$ is the \"smallest\" set (Proof it)"
   ]
  },
  {
   "cell_type": "markdown",
   "metadata": {},
   "source": [
    "imagine A is a set which contains at least one less object than $\\emptyset$ ,so #of_elements_in_$\\emptyset$-#of_elements_in_$A$=1 .then #of_elements_in_$A$=#of_elements_in_$\\emptyset$-1  , by definition #of_elements_in_$\\emptyset$=0 ,so #of_elements_in_$A$=-1 which is imposible"
   ]
  },
  {
   "cell_type": "markdown",
   "metadata": {},
   "source": [
    "***Problem*** Prove that if $B \\subset A$ then $A \\cap B = B$"
   ]
  },
  {
   "cell_type": "markdown",
   "metadata": {},
   "source": [
    "\n",
    "***Solution***: $B \\subseteq B$ and $B \\subset A \\implies B \\subseteq A \\cap B$.now whe have to prove $B$ is the largest set with these conditions.$ $ $A \\cap B$ is the largest set such that $\\forall x \\in A \\cap B, x \\in A$ and $x\\in B. $ On the other hand, any larger set than $B$ will include at least one $x$ which does not belong to $B \\implies B $ is the largest subset of $A\\cap B \\implies A\\cap B = B$***"
   ]
  },
  {
   "cell_type": "markdown",
   "metadata": {},
   "source": [
    "***Problem*** Prove that if $B \\subset A$ then $A \\cup B = A$"
   ]
  },
  {
   "cell_type": "markdown",
   "metadata": {},
   "source": [
    "***Solution***\n",
    "$B \\subset A$ and $A \\subseteq A \\implies B \\cup A \\subseteq A $, $A$ is the smallest set which includes $A \\implies A$ is the smallest set which includes both of the sets  $\\implies A = A \\cup B$ "
   ]
  },
  {
   "cell_type": "markdown",
   "metadata": {},
   "source": [
    "***Problem*** Prove that $A \\cup B = B \\cup A$"
   ]
  },
  {
   "cell_type": "markdown",
   "metadata": {},
   "source": [
    "if $a \\in A \\cup B$,$a \\in A $or$ a\\in B$ $ \\implies a \\in B \\cup A $ , same logic for reversed case"
   ]
  },
  {
   "cell_type": "markdown",
   "metadata": {},
   "source": [
    "***Problem*** Prove that:\n",
    "- for every injection $m:A \\to B$ and pair of functions $f, g :C \\to A$: if $m \\circ f = m \\circ g$ then $f = g$ and vice-versa\n",
    "- for every surjection $e:A \\to B$ and every pair of functions $f, g :B \\to C$: if $f \\circ e = g \\circ e$ then $f = g$ and vice-versa"
   ]
  },
  {
   "cell_type": "markdown",
   "metadata": {},
   "source": [
    "***Solution***\n",
    "\n",
    "*  $\\forall c\\in C$, $m( f (c )) = m( g(c)) $ . From the definition of injection $ \\implies f(c) = g(c) \\implies f = g$\n",
    "*   surjection:  $\\forall b \\in B,\\  \\exists a \\in A$, such that $b=e(a) \\implies e(a) $ covers whole set of $B \\implies $  $f(e(a)) = g(e(a))$ is true for each element of $ B \\implies f=g;$ \\\\\n",
    " $f=g$ means $\\forall b \\in B \\ f(b) = g(b), e(a) $ covers whole set of $B \\implies \\ f(e(a)) = g(e(a))$ \n",
    "\n"
   ]
  },
  {
   "cell_type": "markdown",
   "metadata": {},
   "source": [
    "***Problem***\n",
    "## Prove that \n",
    "- composition of injections is injection itself\n",
    "- composition of surjections is surjection itself\n",
    "- composition of bijections is bijection itself\n",
    "<br>\n",
    "or give a counterexamples"
   ]
  },
  {
   "cell_type": "markdown",
   "metadata": {},
   "source": [
    "***Solution***\n",
    "\n",
    "1. $\\forall f,g: X \\to Y$ such that $\\forall x_1,x_2 \\in X,\\ f(x_1)=f(x_2) \\implies x_1 = x_2$ (same for $g$), we have to prove that $\\forall x',x'' \\in X, f(g(x')) = f(g(x'')) \\implies x'=x'';$ \\\\\n",
    "\n",
    "Injective property of $f: g(x')=g(x'');$ \\\\\n",
    "Injective property of $g: x'=x'';$ \\\\\n",
    "So, $f(g(x')) = f(g(x'')) \\implies x'=x'';$\n",
    "2. $\\forall$ surjective $g: X \\to Y,\\ f:Y \\to Z$, we have to prove that $\\forall z \\in Z,\\ \\exists x \\in X $ such that $z=f(g(x))$ \\\\\n",
    "Surjective property of $f: \\exists y \\in Y$ such that $f(y) = z$; \\\\\n",
    "Surjective property of $g: \\exists x \\in X$ such that $g(x) = y$; \\\\ \n",
    "So, $\\forall z \\in Z,\\ \\exists x \\in X $ such that $z=f(g(x))$; \\\\\n",
    "3. $1,2 \\implies 3$\n"
   ]
  },
  {
   "cell_type": "markdown",
   "metadata": {},
   "source": [
    "***Problem***\n",
    "#### Prove that for each set $A$:\n",
    "- $A \\cong A$\n",
    "- if $B \\cong A$ then $B \\cong A$ for every pair of sets $A$ and $B$\n",
    "- if $A \\cong B$ and $B \\cong C$ then $A \\cong C$ for every triplet $A$, $B$ and $C$"
   ]
  },
  {
   "cell_type": "markdown",
   "metadata": {},
   "source": [
    "***Solution***\n",
    "\n",
    "*   $1_A:A\\to A\\ $is bijection\n",
    "*   I think you have typo error here, but anyways, proof would be the existance of the first biection's inverse function which is also a biection\n",
    "* $\\exists$ bijections $f:A\\to B$ and $g:B \\to C $ \\\\\n",
    "composition of bijections is bijection $\\to $ $f \\circ g$ is bijection \\\\ $\\exists f \\circ g :A \\to C \\implies A \\cong C  $\n",
    "\n"
   ]
  },
  {
   "cell_type": "markdown",
   "metadata": {},
   "source": [
    "### Problem\n",
    "<br>\n",
    "there exists a bijection between set of natural and even numbers"
   ]
  },
  {
   "cell_type": "markdown",
   "metadata": {},
   "source": [
    "### Problem\n",
    "\n",
    "- let bijection function be $f(n) = 2*n$\n",
    "\n",
    "for every even $m$ there exists such $n=m \\div 2$: that $f(n) = m$\n",
    "\n",
    "for every distinct natural number $m$ and $n$: $f(m)$ ≠ $f(n)$"
   ]
  },
  {
   "cell_type": "markdown",
   "metadata": {},
   "source": [
    "#### Problem\n",
    "<br>\n",
    "if we have a bijection between two finite sets than they have an equal number of elements"
   ]
  },
  {
   "cell_type": "markdown",
   "metadata": {},
   "source": [
    "***Solution***\n",
    "Bijective $\\forall f: X \\to Y\\ $ let's consider 2 cases: \\\\\n",
    "1. Number of elements of $X$ is greater than $Y:$ $X$ should contain at least 1 pair of $(x',x''),\\ x' \\neq x'' $ such that $f(x')=f(x'') \\implies f\\ $ cannot be injective.\n",
    "2. Number of elements of $Y$ is greater than $X:$ As a result of the definition of function same element of $X$ cannot be mapped to the different elements of $Y \\implies $ There must be at least one $y \\in Y $ such that $\\nexists x \\in X,\\ f(x)=y \\implies f$ cannot be surjective. \\\\\n",
    "$1,2 \\implies\\ $ if $f$ is bijective number of elements of $A$ and $B$ are equal. "
   ]
  },
  {
   "cell_type": "markdown",
   "metadata": {},
   "source": [
    "$\\cap_{i\\in I}A_i$ and $\\cup_{i\\in I}A_i$"
   ]
  },
  {
   "cell_type": "code",
   "execution_count": 9,
   "metadata": {},
   "outputs": [
    {
     "data": {
      "text/plain": [
       "(set(), {0, 1, 2, 3, 4, 5, 6, 7, 12})"
      ]
     },
     "execution_count": 9,
     "metadata": {},
     "output_type": "execute_result"
    }
   ],
   "source": [
    "A = {1, 2, 3, 4, 5, 6, 7, 0, 12}\n",
    "\n",
    "from itertools import combinations, chain\n",
    "pset = chain.from_iterable(set(combinations(A, r)) for r in range(len(A)+1))\n",
    "P_A = set(pset)\n",
    "\n",
    "x=A\n",
    "y=A\n",
    "for a in P_A:\n",
    "  x = x.intersection(a)\n",
    "  y = y.union(a)\n",
    "x,y"
   ]
  },
  {
   "cell_type": "markdown",
   "metadata": {},
   "source": [
    "### Problem\n",
    "<br>\n",
    "$$A \\cap (B \\cup C)=(A \\cap B) \\cup (A\\cap C)$$\n",
    "$$A \\cup (B \\cap C)=(A \\cup B) \\cap (A\\cup C)$$"
   ]
  },
  {
   "cell_type": "markdown",
   "metadata": {},
   "source": [
    "### Solution 1\n",
    "\n",
    "\n",
    "\n",
    "if $x \\in A \\cap (B \\cup C)$ $\\implies $ $x \\in A$ and $x \\in B \\cup C$ $\\implies$ $x \\in B$ or $x \\in C$ $\\implies$ $x \\in A \\cap B$ or $x \\in A \\cap C$ $\\implies$ $x \\in (A \\cap B) \\cup (A\\cap C)$\n",
    "\n",
    "\n",
    "if $x \\in (A \\cap B) \\cup (A\\cap C))$ $\\implies$ $x \\in A$ and ($x \\in B$ or $x \\in C$) $\\implies$  $x \\in A \\cap (B \\cup C)$\n",
    "###### second\n",
    "\n",
    "<br>\n",
    "$A \\cup (B \\cap C) \\subseteq (A \\cup B) $ and similary $(A \\cup (B \\cap C)) \\subseteq (A \\cup C) $ $\\implies$ $(A \\cap (B \\cup C)) \\subseteq (A \\cup B) \\cap (A \\cup C)$\n",
    "\n",
    "\n",
    "<br>\n",
    "if $x \\in ((A \\cup B) \\cap (A\\cup C))$ then if $x \\in A$ then $x$ in both sides of equation\n",
    "<br>\n",
    "if $x \\notin A$ then $x \\in B$ and $x \\in C$ $\\implies$ $x \\in B \\cap C$ $\\implies$  $x \\in A \\cup (B \\cap C) $"
   ]
  },
  {
   "cell_type": "markdown",
   "metadata": {},
   "source": [
    "\n",
    "\n",
    "\n",
    "# Linear Algebra"
   ]
  },
  {
   "cell_type": "markdown",
   "metadata": {},
   "source": [
    "***Problem*** Prove that $(AB)^{T} = B^{T}A^{T}$ for each pair of matrices $A, B \\in \\mathbb{R}^{n \\times m}$"
   ]
  },
  {
   "cell_type": "markdown",
   "metadata": {},
   "source": [
    "\n",
    "\n",
    "***Solution***\n",
    "${AB_{i,j}}^T = AB_{j,i} =  \\sum_{k} A_{j,k} B_{k,i} = \\sum_k B_{k,i} A_{j,k} =\\sum_k {B^T}_{i,k} {A^T}_{k,j} = B^T A^T $"
   ]
  },
  {
   "cell_type": "markdown",
   "metadata": {},
   "source": [
    "#### Problem\n",
    "#### Write combination for $XOR$ calculation"
   ]
  },
  {
   "cell_type": "code",
   "execution_count": 1,
   "metadata": {},
   "outputs": [
    {
     "name": "stdout",
     "output_type": "stream",
     "text": [
      "[0, 0] 0.0\n",
      "[0, 1] 1.0\n",
      "[1, 0] 1.0\n",
      "[1, 1] 0.0\n"
     ]
    }
   ],
   "source": [
    "import numpy as np\n",
    "import pandas as pd\n",
    "import math\n",
    "\n",
    "sig = np.vectorize(lambda x: 1 / (1 + math.exp(-x)))\n",
    "\n",
    "ff = lambda _X, _W, _b: sig(np.dot(_W.T, _X) + _b)\n",
    "\n",
    "def funcnotand(ba):\n",
    "    W = np.array([20, 20]) \n",
    "    b = np.array([-30])\n",
    "    return 1 - np.around(ff(ba, W, b), decimals=1)\n",
    "\n",
    "def funcor(ba):\n",
    "    W = np.array([20, 20]) \n",
    "    b = np.array([-10])\n",
    "    return np.around(ff(ba, W, b), decimals=1)\n",
    "\n",
    "def funcand(ba):\n",
    "    W = np.array([20, 20]) \n",
    "    b = np.array([-30])\n",
    "    return np.around(ff(ba, W, b), decimals=1)\n",
    "\n",
    "BA = [[0, 0], [0, 1], [1, 0], [1, 1]]\n",
    "for ba in BA:\n",
    "    print(ba, funcor(ba)[0] and funcnotand(ba)[0])"
   ]
  },
  {
   "cell_type": "code",
   "execution_count": null,
   "metadata": {},
   "outputs": [],
   "source": []
  }
 ],
 "metadata": {
  "kernelspec": {
   "display_name": "Python 3",
   "language": "python",
   "name": "python3"
  },
  "language_info": {
   "codemirror_mode": {
    "name": "ipython",
    "version": 3
   },
   "file_extension": ".py",
   "mimetype": "text/x-python",
   "name": "python",
   "nbconvert_exporter": "python",
   "pygments_lexer": "ipython3",
   "version": "3.7.3"
  }
 },
 "nbformat": 4,
 "nbformat_minor": 2
}
