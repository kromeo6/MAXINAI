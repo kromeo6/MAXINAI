{
 "cells": [
  {
   "cell_type": "markdown",
   "metadata": {},
   "source": [
    "#### Metric spaces\n",
    "#### Problem\n",
    "Prove that:\n",
    "For every metric space (X, d):\n",
    "- For eny $\\mathcal{U} = \\{U | U$ is open in $(X, d)\\}$ holds $\\bigcup_{U \\in \\mathcal{U}} U$ is open in $(X, d)$\n",
    "- For eny two $U, V \\subset X$ open in $(X, d)$ holds: $U \\cap V$ is open in $(X, d)$\n",
    "- $\\emptyset$ is open in $(X, d)$"
   ]
  },
  {
   "cell_type": "markdown",
   "metadata": {},
   "source": [
    "### Solution\n",
    "-choose any $ x \\in \\mathcal{U}$ ,$x$ is in at least one $U \\in \\mathcal{U}$ ,$U$ is open ,therefore exists $x$ and $r$ such that open $B(x,r) \\in U$ ,but $U \\in \\mathcal{U} \\implies B(x,r) \\in \\mathcal{U}$\n",
    "\n",
    "-choose any $x \\in U \\cap V$ , there exists$ B(x,r) \\in U $ and $ \\bar B(x,\\bar r) \\in V \\implies B(x,min(r,\\bar r)) \\in U,V \\implies \\in U \\cap V$\n",
    "\n",
    "-for any point $\\in$ $ \\emptyset \\exists$ open ball $\\in \\emptyset$"
   ]
  },
  {
   "cell_type": "markdown",
   "metadata": {},
   "source": [
    "#### Problem\n",
    "Prove that:\n",
    "- For eny finity set $(U)_{i=1}^{n}$ of open sets in $(X, d)$, $\\bigcap_{i=1}^{n}U$ is open in $(X, d)$"
   ]
  },
  {
   "cell_type": "markdown",
   "metadata": {},
   "source": [
    "### Solution\n",
    "choose any $x \\in \\bigcap_{i=1}^{n}U$ there exists open $B_1(x,r_1) ,B_2(x,r_2),...,B_n(x,r_n) \\in X$ such that $B_k(x,r_k) \\in U_k$ suppose $r=min(r_1,r_2,...,r_n) \\implies B(x,r) \\in \\bigcap_{i=1}^{n}U$"
   ]
  },
  {
   "cell_type": "markdown",
   "metadata": {},
   "source": [
    "#### Problem\n",
    "Prove that for set $U \\subset X$ is open if and only if for each point $x \\in U$ there exists the open neighbourhood $V$ of $x$ such that $V \\subset U$"
   ]
  },
  {
   "cell_type": "markdown",
   "metadata": {},
   "source": [
    "### Solution\n",
    "Lets suppose for some point $x \\in U$ doesnt exists open neighborhood $V \\subset U \\implies $ doesnt exist open ball $B \\subset U \\implies U$ is not open from definiton of open set"
   ]
  },
  {
   "cell_type": "markdown",
   "metadata": {},
   "source": [
    "#### Problem\n",
    "Prove that, closed ball is closed subset in $(X, d)$"
   ]
  },
  {
   "cell_type": "markdown",
   "metadata": {},
   "source": [
    "### Solution\n",
    "Suppose $D(x_0,r)$ is a closed ball. We show that $X-D$ is open. In other words, we need to find an open ball contained in $X-D$.\n",
    "\n",
    "Pick\n",
    "$t \\in X−D \\implies d(t,x_0)>r \\implies d(t,x_0)−r>0$\n",
    "Let $B(y,r_1)$ be an open ball, and pick $z \\in B(y,r_1)$. Then, we must have $d(y,z)<r_1$. We need to choose $r_1$ so that $d(z,x_0)>r$. Notice by the triangle inequality\n",
    "\n",
    "$d(x_0,t)≤d(x_0,z)+d(z,t) \\implies d(z,x_0)≥d(x_0,t)−d(z,t)>d(x_0,t)−r_1$.\n",
    "if we pick $r_1=d(t,x_0)−r$ then we are done."
   ]
  },
  {
   "cell_type": "markdown",
   "metadata": {},
   "source": [
    "#### Problem\n",
    "Prove that\n",
    "For every metric space (X, d):\n",
    "- For eny $\\mathcal{F} = \\{F | F$ is closed in $(X, d)\\}$ holds $\\bigcap_{F \\in \\mathcal{F}} F$ is closed in $(X, d)$\n",
    "- For eny two $F_1, F_2 \\subset X$ closed in $(X, d)$ holds: $F_1 \\cup F_2$ is closed in $(X, d)$\n",
    "- $\\emptyset$ is closed in $(X, d)$"
   ]
  },
  {
   "cell_type": "markdown",
   "metadata": {},
   "source": [
    "### Solution\n",
    "we have to prove that $X-\\bigcap_{F \\in \\mathcal{F}} F$ is open, but the set $X-\\bigcap_{F \\in \\mathcal{F}} F$ is equal to set $\\bigcup_{F \\in \\mathcal{F}}X-F$ ,which is union of open sets wchich is open.\n",
    "\n",
    "We have to prove that $ X-F_1 \\cup F_2$ is open ,but $ X-F_1 \\cup F_2$ is equal to $(X-F_1 )\\cup (X-F_2) $ which is intersect of two open sets by definition\n",
    "\n",
    "$X-\\emptyset$ is equal to $X$"
   ]
  },
  {
   "cell_type": "markdown",
   "metadata": {},
   "source": [
    "# Metrics in Euclidean spaces"
   ]
  },
  {
   "cell_type": "markdown",
   "metadata": {},
   "source": [
    "### Problem\n",
    "Prove that:\n",
    "- for every $u, v \\in \\mathbb{R}^{n}$: $d(u, v) \\geq 0$\n",
    "- for every $v \\in \\mathbb{R}^{n}$: $d(v, v) = 0$\n",
    "- for every $u, v \\in \\mathbb{R}^{n}$: $d(u, v) = d(v, u)$ (symmetry)\n",
    "- for every $u, v, w \\in \\mathbb{R}^{n}$: $d(u, w) \\leq d(v, u) + d(v, w)$ (triangle inequality)\n",
    "\n",
    "\n",
    "\n"
   ]
  },
  {
   "cell_type": "markdown",
   "metadata": {},
   "source": [
    "### Solution\n",
    "$ d(u,v)=\\sqrt{(u_1-v_1)^2+(u_2-v_2)^2+...+(u_n-v_n)^2}$ , but $(u_k-v_k)^2>=0$ for every $k \\in [1,n]$\n",
    "\n",
    "$ d(v,v)=\\sqrt{(v_1-v_1)^2+(v_2-v_2)^2+...+(v_n-v_n)^2}$ which is equal to zero\n",
    "\n",
    "$(u_k-v_k)^2=(v_k-u_k)^2$ for every $k \\in [1,n]$\n",
    "we have to prove following:\n",
    "$\\sum_{i=1}^n (u_i-w_i)^2<=\\sum_{i=1}^n (u_i-v_i)^2+\\sum_{i=1}^n (v_i-w_i)^2 $\n",
    "lets consider i^th term from right hand side of the equation\n",
    "$(u_i-v_i)^2+(v_i-w_i)^2=(u_i-w_i)^2+2u_iw_i-2u_iv_i+\\sqrt{v_i^2+w_i^2-2v_iw_i}\n",
    "=(u_i-w_i)^2+(v_i-w_i)^2+2u_i(w_i-v_i)=\n",
    "(u_i-w_i)^2+[(v_i-w_i)^2+u_i]^2-u_i^2$ .\n",
    "$[(v_i-w_i)^2+u_i]^2-u_i^2$\n",
    "this term is greater than or equal to zero.\n",
    "while i^th term in left hand side is $(u_i-w_i)^2$\n",
    "$\\implies$ i^th left-hand-side-term<=i^th right-hand-side-term"
   ]
  },
  {
   "cell_type": "markdown",
   "metadata": {},
   "source": [
    "#### Problem\n",
    "Prove that function is continuous in $c$ if for eny sequence $(x_n)_{n=1}^{\\infty} \\subset X$ such that $\\lim_{n \\to \\infty}x_n = c$ we have $\\lim_{n \\to \\infty}f(x_n) = f(c)$"
   ]
  },
  {
   "cell_type": "markdown",
   "metadata": {},
   "source": [
    "### Solution\n",
    "first prove that if function is continuous this condition is also true.Suppose its continuous.For any $B(f(c),\\epsilon) \\subset Y$, there exist $B(c,\\delta) \\subset X$ such that $f(B(c,\\delta)) \\subset B(f(c),\\epsilon)$.So ,we can find $N$ such that $x_n \\in B(c,\\delta)$ for $n>N. \\implies f(x_n) \\in B(f(c),\\epsilon) \\implies \\lim_{n\\to \\infty}f(x_n)=f(c) $ \n",
    "\n",
    "Secondly,we have to prove that if $f$ is not continues , this condition is not true.\n",
    "Lets suppose function is not continuous(when this condition is true). This means that for some ball(neighborhood) $ B(f(c),\\epsilon) \\in Y$ for any $ B(c,\\delta) \\in X$ exists at least one $x \\in B(c,\\delta) $ such that $f(x)\\notin B(f(c),\\epsilon)$.So, lets create sequence $x_n$ such that  $x_n \\in B(c,1/n)$ and $f(x_n)\\notin B(f(c),\\epsilon)$ . So, we created sequence $\\lim_{n\\to \\infty}x_n=c$ but $\\lim_{n\\to \\infty}f(x_n)\\ne f(c)$"
   ]
  },
  {
   "cell_type": "markdown",
   "metadata": {},
   "source": [
    "#### Problem\n",
    "Prove that function is continuous if for every open set $V \\subset Y$ the $f^{-1}(V)$ is open in $X$"
   ]
  },
  {
   "cell_type": "markdown",
   "metadata": {},
   "source": [
    "### Solution\n",
    "assume that for any open set $V$ in $Y$, $f^{-1}(V)$ is open. We want\n",
    "to show that $f$ is a continuous function. Let $x_0$ be a point in $X$, $f(x_0)$ the\n",
    "corresponding value in $Y$ .\n",
    "To show that $f$ is continuous at $x_0$ we must show that, given a open ball $B(f(x_0),\\epsilon) \\subset X$, there exists a ball $C(x_0,\\delta)$ for which $f(C(x_0,\\delta)) \\subset B(f(x_0),\\epsilon)$\n",
    "But B in particular is an open set. Therefore $f^{-1}(B)$ is open. Therefore $x_0$ is\n",
    "an interior point for $f^{-1}(B)$,so there is a ball $C$ centered at $x_0$ contained\n",
    "in $f^{-1}(B)$.\n",
    "This implies that $f(C)$ is contained in $B$, which is what we needed to show.\n"
   ]
  },
  {
   "cell_type": "markdown",
   "metadata": {},
   "source": [
    "#### Problem\n",
    "Prove that function is continuous if for every closed set $F \\subset Y$ the $f^{-1}(F)$ is open in $X$"
   ]
  },
  {
   "cell_type": "markdown",
   "metadata": {},
   "source": [
    "### Solution\n",
    "I think somethings wrong here "
   ]
  },
  {
   "cell_type": "markdown",
   "metadata": {},
   "source": [
    "### Problem\n",
    "Prove that any composition of continous functions is continous"
   ]
  },
  {
   "cell_type": "markdown",
   "metadata": {},
   "source": [
    "### Solution\n",
    "Suppose $g: X\\to Y, f:Y \\to Z$ are continuous functions. Lets prove that $f(g(x))=f\\bullet g:X \\to Z$ is also continuous.\n",
    "we have to show for any $B(z_0,\\epsilon)$ ,there exists  $B(x_0,\\delta)$ such that $f\\bullet g(B(x_0,\\delta)) \\subset B(z_0,\\epsilon).$\n",
    "from $f$'s continuity $\\implies \\exists  B(y_0,\\delta_1)$ such that $f(B(y_0,\\delta_1)) \\subset B(z_0,\\epsilon)$ .and from $g$'s continuity $\\exists  B(x_0,\\delta_2)$ such that $g(B(x_0,\\delta_2)) \\subset B(y_0,\\delta_1)$ this means that $f \\bullet g(B(x_0,\\delta_2)) \\subset B(z_0,\\epsilon)$ .every ball mentioned above is open."
   ]
  },
  {
   "cell_type": "code",
   "execution_count": null,
   "metadata": {},
   "outputs": [],
   "source": []
  }
 ],
 "metadata": {
  "kernelspec": {
   "display_name": "Python 3",
   "language": "python",
   "name": "python3"
  },
  "language_info": {
   "codemirror_mode": {
    "name": "ipython",
    "version": 3
   },
   "file_extension": ".py",
   "mimetype": "text/x-python",
   "name": "python",
   "nbconvert_exporter": "python",
   "pygments_lexer": "ipython3",
   "version": "3.7.3"
  }
 },
 "nbformat": 4,
 "nbformat_minor": 2
}
