{
 "cells": [
  {
   "cell_type": "markdown",
   "metadata": {},
   "source": [
    "### Problem\n",
    "$$f(x,y) = \\begin{cases}y^3/(x^2+y^2) & \\text{if }(x,y) \\ne (0,0) \\\\ 0 & \\text{if }(x,y) = (0,0)\\end{cases}$$"
   ]
  },
  {
   "cell_type": "markdown",
   "metadata": {},
   "source": [
    "### Solution\n",
    "consider partial derivatives in $(x_0,y_0)$\n",
    "$$\\frac{\\partial f}{\\partial x}(x_0,y_0) = \\lim_{h \\to 0}\\frac{f(x_0+h,y_0)-f(x_0,y_0)}{h}$$\n",
    "\n",
    "if $(x_0,y_0)=0  ,$ then $$\\frac{\\partial f}{\\partial x}(x_0,y_0) = \\lim_{h \\to 0}\\frac{f(x_0+h,y_0)-f(x_0,y_0)}{h}=\\lim_{h \\to 0}\\frac{f(x_0+h,y_0)}{h}=\\lim_{h \\to 0}\\frac{\\frac{y_0^3}{(x_0+h)^2+y_0^2}}{h}=\\lim_{h \\to 0}\\frac{0}{h}=0$$\n",
    "\n",
    "$$\\frac{\\partial f}{\\partial y}(x_0,y_0) = \\lim_{h \\to 0}\\frac{f(x_0,y_0+h)-f(x_0,y_0)}{h}=\\lim_{h \\to 0}\\frac{f(x_0,y_0+h)}{h}=\\lim_{h \\to 0}\\frac{\\frac{(y_0+h)^3}{x_0^2+(y_0+h)^2}}{h}=\\lim_{h \\to 0}\\frac{h}{h}=1$$\n",
    "\n",
    "if $(x_0,y_0) \\ne(0,0) ,$ then\n",
    "$$\\frac{\\partial f}{\\partial x}(x_0,y_0) = \\lim_{h \\to 0}\\frac{f(x_0+h,y_0)-f(x_0,y_0)}{h}=\\lim_{h \\to 0}\\frac{\\frac{y_0^3}{(x_0+h)^2+y_0^2}-\\frac{y_0^3}{x_0^2+y_0^2}}{h} $$ its $\\lim_{\\to 0} \\frac{0}{0} ,$  we can use Lopital's rule\n",
    "$$\\lim_{h \\to 0}\\frac{\\frac{y_0^3}{(x_0+h)^2+y_0^2}-\\frac{y_0^3}{x_0^2+y_0^2}}{h} = \\lim_{h \\to 0} \\frac{-2y_0^3(x_0+h)}{((x_0+h)^2+y_0^2)^2}=\\frac{-2y_0^3x_0}{(x_0^2+y_0^2)^2}$$\n",
    "$$\\\\ \\frac{\\partial f}{\\partial y}(x_0,y_0) = \\lim_{h \\to 0}\\frac{f(x_0,y_0+h)-f(x_0,y_0)}{h}=\\lim_{h \\to 0}\\frac{\\frac{(y_0+h)^3}{x_0^2+(y_0+h)^2}-\\frac{y_0^3}{x_0^2+y_0^2}}{h} $$ its $\\lim_{\\to 0} \\frac{0}{0} ,$ we can use Lopitals's rule \n",
    "$$\\lim_{h \\to 0}\\frac{\\frac{(y_0+h)^3}{x_0^2+(y_0+h)^2}-\\frac{y_0^3}{x_0^2+y_0^2}}{h}=\\frac{3y_0^2(x_0^2+y_0^2)-2y_0^4}{(x_0^2+y_0^2)^2} $$"
   ]
  },
  {
   "cell_type": "markdown",
   "metadata": {},
   "source": [
    "### Problem\n",
    "Example:\n",
    "$$f(x,y) = \\begin{cases}x & \\text{if }y \\ne x^2 \\\\ 0 & \\text{if }y = x^2\\end{cases}$$"
   ]
  },
  {
   "cell_type": "markdown",
   "metadata": {},
   "source": [
    "### Solution\n",
    "If $y_0 \\ne x_0^2 ,$  in point $(x_0,y_0)$\n",
    "$$\\frac{\\partial f}{\\partial x}(x_0,y_0) = \\lim_{h \\to 0}\\frac{f(x_0+h,y_0)-f(x_0,y_0)}{h}=\\lim_{h \\to 0}\\frac{x_0+h-x_0}{h}=1$$\n",
    "$$\\frac{\\partial f}{\\partial y}(x_0,y_0) = \\lim_{h \\to 0}\\frac{f(x_0,y_0+h)-f(x_0,y_0)}{h}=\\lim_{h \\to 0}\\frac{x_0-x_0}{h}=0$$\n",
    "if $y_0 = x_0^2 ,$  in point $(x_0,y_0)$\n",
    "$$\\frac{\\partial f}{\\partial x}(x_0,y_0) = \\lim_{h \\to 0}\\frac{f(x_0+h,y_0)-f(x_0,y_0)}{h}=\\lim_{h \\to 0}\\frac{x_0+h-0}{h}=\\infty$$\n",
    "$$\\frac{\\partial f}{\\partial y}(x_0,y_0) = \\lim_{h \\to 0}\\frac{f(x_0,y_0+h)-f(x_0,y_0)}{h}=\\lim_{h \\to 0}\\frac{x_0-0}{h}=\\infty$$"
   ]
  },
  {
   "cell_type": "code",
   "execution_count": null,
   "metadata": {},
   "outputs": [],
   "source": []
  }
 ],
 "metadata": {
  "kernelspec": {
   "display_name": "Python 3",
   "language": "python",
   "name": "python3"
  },
  "language_info": {
   "codemirror_mode": {
    "name": "ipython",
    "version": 3
   },
   "file_extension": ".py",
   "mimetype": "text/x-python",
   "name": "python",
   "nbconvert_exporter": "python",
   "pygments_lexer": "ipython3",
   "version": "3.7.3"
  }
 },
 "nbformat": 4,
 "nbformat_minor": 2
}
