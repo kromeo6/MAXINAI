{
 "cells": [
  {
   "cell_type": "markdown",
   "metadata": {},
   "source": [
    "#### Problem\n",
    "Prove that function is continuous in $c$ if for eny sequence $(x_n)_{n=1}^{\\infty} \\subset X$ such that $\\lim_{n \\to \\infty}x_n = c$ we have $\\lim_{n \\to \\infty}f(x_n) = f(c)$"
   ]
  },
  {
   "cell_type": "markdown",
   "metadata": {},
   "source": [
    "### Solution\n",
    "first prove that if function is continuous this condition is also true.Suppose its continuous.For any $B(f(c),\\epsilon) \\subset Y$, there exist $B(c,\\delta) \\subset X$ such that $f(B(c,\\delta)) \\subset B(f(c),\\epsilon)$.So ,we can find $N$ such that $x_n \\in B(c,\\delta)$ for $n>N. \\implies f(x_n) \\in B(f(c),\\epsilon) \\implies \\lim_{n\\to \\infty}f(x_n)=f(c) $ \n",
    "\n",
    "Secondly,we have to prove that if $f$ is not continues , this condition is not true.\n",
    "Lets suppose function is not continuous(when this condition is true). This means that for some ball(neighborhood) $ B(f(c),\\epsilon) \\in Y$ for any $ B(c,\\delta) \\in X$ exists at least one $x \\in B(c,\\delta) $ such that $f(x)\\notin B(f(c),\\epsilon)$.So, lets create sequence $x_n$ such that  $x_n \\in B(c,1/n)$ and $f(x_n)\\notin B(f(c),\\epsilon)$ . So, we created sequence $\\lim_{n\\to \\infty}x_n=c$ but $\\lim_{n\\to \\infty}f(x_n)\\ne f(c)$"
   ]
  },
  {
   "cell_type": "markdown",
   "metadata": {},
   "source": [
    "#### Problem\n",
    "Prove that function is continuous if for every open set $V \\subset Y$ the $f^{-1}(V)$ is open in $X$\n"
   ]
  },
  {
   "cell_type": "markdown",
   "metadata": {},
   "source": [
    "### Solution\n",
    "assume that for any open set $V$ in $Y$, $f^{-1}(V)$ is open. We want\n",
    "to show that $f$ is a continuous function. Let $x_0$ be a point in $X$, $f(x_0)$ the\n",
    "corresponding value in $Y$ .\n",
    "To show that $f$ is continuous at $x_0$ we must show that, given a open ball $B(f(x_0),\\epsilon) \\subset X$, there exists a ball $C(x_0,\\delta)$ for which $f(C(x_0,\\delta)) \\subset B(f(x_0),\\epsilon)$\n",
    "But B in particular is an open set. Therefore $f^{-1}(B)$ is open. Therefore $x_0$ is\n",
    "an interior point for $f^{-1}(B)$,so there is a ball $C$ centered at $x_0$ contained\n",
    "in $f^{-1}(B)$.\n",
    "This implies that $f(C)$ is contained in $B$, which is what we needed to show.\n"
   ]
  },
  {
   "cell_type": "markdown",
   "metadata": {},
   "source": [
    "#### Problem\n",
    "Prove that function is continuous if for every closed set $F \\subset Y$ the $f^{-1}(F)$ is open in $X$"
   ]
  },
  {
   "cell_type": "markdown",
   "metadata": {},
   "source": [
    "### Solution\n",
    "I think somethings wrong here "
   ]
  },
  {
   "cell_type": "markdown",
   "metadata": {},
   "source": [
    "### Problem\n",
    "Prove that any composition of continous functions is continous\n"
   ]
  },
  {
   "cell_type": "markdown",
   "metadata": {},
   "source": [
    "### Solution\n",
    "Suppose $g: X\\to Y, f:Y \\to Z$ are continuous functions. Lets prove that $f(g(x))=f\\bullet g:X \\to Z$ is also continuous.\n",
    "we have to show for any $B(z_0,\\epsilon)$ ,there exists  $B(x_0,\\delta)$ such that $f\\bullet g(B(x_0,\\delta)) \\subset B(z_0,\\epsilon).$\n",
    "from $f$'s continuity $\\implies \\exists  B(y_0,\\delta_1)$ such that $f(B(y_0,\\delta_1)) \\subset B(z_0,\\epsilon)$ .and from $g$'s continuity $\\exists  B(x_0,\\delta_2)$ such that $g(B(x_0,\\delta_2)) \\subset B(y_0,\\delta_1)$ this means that $f \\bullet g(B(x_0,\\delta_2)) \\subset B(z_0,\\epsilon)$ .every ball mentioned above is open."
   ]
  },
  {
   "cell_type": "code",
   "execution_count": null,
   "metadata": {},
   "outputs": [],
   "source": []
  },
  {
   "cell_type": "code",
   "execution_count": null,
   "metadata": {},
   "outputs": [],
   "source": []
  }
 ],
 "metadata": {
  "kernelspec": {
   "display_name": "Python 3",
   "language": "python",
   "name": "python3"
  },
  "language_info": {
   "codemirror_mode": {
    "name": "ipython",
    "version": 3
   },
   "file_extension": ".py",
   "mimetype": "text/x-python",
   "name": "python",
   "nbconvert_exporter": "python",
   "pygments_lexer": "ipython3",
   "version": "3.7.3"
  }
 },
 "nbformat": 4,
 "nbformat_minor": 2
}
