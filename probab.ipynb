{
 "cells": [
  {
   "cell_type": "code",
   "execution_count": null,
   "metadata": {},
   "outputs": [],
   "source": [
    "%load_ext autoreload\n",
    "%autoreload 2\n",
    "\n",
    "%matplotlib inline"
   ]
  },
  {
   "cell_type": "markdown",
   "metadata": {},
   "source": [
    "## Basic setup"
   ]
  },
  {
   "cell_type": "markdown",
   "metadata": {},
   "source": [
    "Create anaconda environment\n",
    "<br>\n",
    "```bash\n",
    "conda create -n ml python=3.7.4 jupyter\n",
    "```\n",
    "Install fastai library\n",
    "<br>\n",
    "```bash\n",
    "conda install -c pytorch -c fastai fastai\n",
    "```"
   ]
  },
  {
   "cell_type": "markdown",
   "metadata": {},
   "source": [
    "# Sigma-algebras"
   ]
  },
  {
   "cell_type": "markdown",
   "metadata": {},
   "source": [
    "#### Prove that:\n",
    "Composition of mesurable functions is a mesurable function"
   ]
  },
  {
   "cell_type": "markdown",
   "metadata": {},
   "source": [
    "### Solution\n",
    "Let $(X, Σ_X), (Y, Σ_Y )$, and $(Z, Σ_Z)$ be measurable spaces.\n",
    "$f : X → Y $and $g : Y → Z$ are measurable with respect to the given $σ$-algebras.\n",
    "We simply have to verify that if $E$ is a measurable subset of $Z$ then its\n",
    "inverse image under $g \\circ f$ is a measurable subset of $X$. This follows from the\n",
    " measurability of $f$ and $g$, for if $E ∈ Σ_Z$ then \n",
    "\n",
    "$g^{-1}(E) \\in Σ_Y $since $g$\n",
    "is measurable, and $\\implies$\n",
    "$(g ◦ f)^{-1}(E)=f^{-1}g^{-1}(E) \\in Σ_X$ since $f$ is measurable\n"
   ]
  },
  {
   "cell_type": "markdown",
   "metadata": {},
   "source": [
    "## Mesure"
   ]
  },
  {
   "cell_type": "markdown",
   "metadata": {},
   "source": [
    "#### Problem\n",
    "Prove the following mesure properties:\n",
    "if $A \\subset B$ then $\\mu(A) \\le \\mu(B)$\n",
    "<br>\n"
   ]
  },
  {
   "cell_type": "markdown",
   "metadata": {},
   "source": [
    "### Solution\n",
    "$(B - A) \\cup (A \\cap B) = (B - A) \\cup A = B$ and $(B - A) \\cap (A \\cap B) = \\emptyset$  $\\implies$  $\\mu((B - A) \\cup (A \\cap B)) = \\mu(B - A) + \\mu(A \\cap B) = \\mu(B - A) + \\mu(A) = \\mu(B)$ $\\implies$ $\\mu(A) \\le \\mu(B)$"
   ]
  },
  {
   "cell_type": "markdown",
   "metadata": {},
   "source": [
    "## Probability"
   ]
  },
  {
   "cell_type": "markdown",
   "metadata": {},
   "source": [
    "### Problem \n",
    "Prove that:\n",
    "For probability mesure $P$ and events $A, B, C \\subset \\Omega$\n",
    "- $P(A \\cup B) = P(A) + P(B) - P(A \\cap B)$\n",
    "<br>"
   ]
  },
  {
   "cell_type": "markdown",
   "metadata": {},
   "source": [
    "### Solution\n",
    "For any sets $A$ and $B$, we have the disjoint union\n",
    "$$A\\cup B=(A−B)\\cup(A\\cap B)\\cup (B−A)$$.\n",
    "Then by the axiom\n",
    "$$P(A\\cup B)=P(A−B)+P(A\\cap B)+P(B−A)$$.\n",
    "Since $$P(A−B)=P(A)−P(A \\cap B)$$ and $$P(B−A)=P(B)−P(A\\cap B)$$\n",
    "result follows"
   ]
  },
  {
   "cell_type": "markdown",
   "metadata": {},
   "source": [
    "## Random variable"
   ]
  },
  {
   "cell_type": "markdown",
   "metadata": {},
   "source": [
    "### Problem\n",
    "Prove that:\n",
    "$$\n",
    "\\sigma^2 = \\operatorname{E}[X^2] - (\\operatorname{E}[X])^2\n",
    "$$\n",
    "Assuming that expectation exists\n",
    "<br>\n",
    "Denoted by $\\sigma^2$\n",
    "<br>"
   ]
  },
  {
   "cell_type": "markdown",
   "metadata": {},
   "source": [
    "### Proof:\n",
    "\n",
    "$\\sigma^2 =  \\operatorname{E}[(X - \\operatorname{E}[X])^2]$ = \n",
    "$\\operatorname{E}[X^2 - 2X\\operatorname{E}[X] + (\\operatorname{E}[X])^2]$ = \n",
    "$\\operatorname{E}[X^2] - \\operatorname{E}[2X\\operatorname{E}[X]] + (\\operatorname{E}[X])^2$ = \n",
    "$ \\operatorname{E}[X^2] - 2\\operatorname{E}[X]\\operatorname{E}[X] + (\\operatorname{E}[X])^2 $ = \n",
    "$ \\operatorname{E}[X^2] - 2(\\operatorname{E}[X])^2 + (\\operatorname{E}[X])^2 $ = \n",
    "$ \\operatorname{E}[X^2] - (\\operatorname{E}[X])^2$"
   ]
  },
  {
   "cell_type": "code",
   "execution_count": null,
   "metadata": {},
   "outputs": [],
   "source": []
  }
 ],
 "metadata": {
  "kernelspec": {
   "display_name": "Python 3",
   "language": "python",
   "name": "python3"
  },
  "language_info": {
   "codemirror_mode": {
    "name": "ipython",
    "version": 3
   },
   "file_extension": ".py",
   "mimetype": "text/x-python",
   "name": "python",
   "nbconvert_exporter": "python",
   "pygments_lexer": "ipython3",
   "version": "3.7.3"
  }
 },
 "nbformat": 4,
 "nbformat_minor": 4
}
